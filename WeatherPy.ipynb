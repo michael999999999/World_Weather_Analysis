{
 "cells": [
  {
   "cell_type": "code",
   "execution_count": 10,
   "id": "5b11bf64",
   "metadata": {},
   "outputs": [],
   "source": [
    "# 6.1.4\n",
    "\n",
    "# Import the dependencies.\n",
    "import pandas as pd\n",
    "import matplotlib.pyplot as plt\n",
    "import numpy as np\n",
    "from citipy import citipy\n",
    "import time\n"
   ]
  },
  {
   "cell_type": "code",
   "execution_count": 11,
   "id": "e11c57af",
   "metadata": {},
   "outputs": [
    {
     "data": {
      "text/plain": [
       "<zip at 0x7fc6e9a37ac0>"
      ]
     },
     "execution_count": 11,
     "metadata": {},
     "output_type": "execute_result"
    }
   ],
   "source": [
    "# Create a set of random latitude and longitude combinations.\n",
    "lats = np.random.uniform(low=-90.000, high=90.000, size=1500)\n",
    "lngs = np.random.uniform(low=-180.000, high=180.000, size=1500)\n",
    "lat_lngs = zip(lats, lngs)\n",
    "lat_lngs\n"
   ]
  },
  {
   "cell_type": "code",
   "execution_count": 12,
   "id": "4b5a482c",
   "metadata": {},
   "outputs": [],
   "source": [
    "# Add the latitudes and longitudes to a list\n",
    "coordinates = list(lat_lngs)\n"
   ]
  },
  {
   "cell_type": "code",
   "execution_count": 13,
   "id": "29a4dd43",
   "metadata": {},
   "outputs": [
    {
     "data": {
      "text/plain": [
       "626"
      ]
     },
     "execution_count": 13,
     "metadata": {},
     "output_type": "execute_result"
    }
   ],
   "source": [
    "# Create a list for holding the cities.\n",
    "cities = []\n",
    "\n",
    "# Identify the nearest city for each latitude and longitude combination.\n",
    "for coordinate in coordinates:\n",
    "    city = citipy.nearest_city(coordinate[0], coordinate[1]).city_name\n",
    "    \n",
    "    # If the city is unique, then we will add it to the cities list.\n",
    "    if city not in cities:\n",
    "        cities.append(city)\n",
    "        \n",
    "# Print the city count to confirm sufficient count.\n",
    "len(cities)\n"
   ]
  },
  {
   "cell_type": "code",
   "execution_count": 14,
   "id": "0c1fa31a",
   "metadata": {},
   "outputs": [],
   "source": [
    "# 6.2.6\n",
    "\n",
    "# Import the requests library.\n",
    "import requests\n",
    "\n",
    "# Import the API key.\n",
    "from config import weather_api_key\n",
    "\n",
    "# Starting URL for Weather Map API Call.\n",
    "url = \"https://api.openweathermap.org/data/2.5/weather?units=Imperial&appid=\" + weather_api_key\n"
   ]
  },
  {
   "cell_type": "code",
   "execution_count": 15,
   "id": "02045519",
   "metadata": {},
   "outputs": [
    {
     "name": "stdout",
     "output_type": "stream",
     "text": [
      "Beginning Data Retrieval     \n",
      "-----------------------------\n"
     ]
    }
   ],
   "source": [
    "# Create an empty list to hold the weather data.\n",
    "city_data = []\n",
    "\n",
    "# Print the beginning of the logging.\n",
    "print(\"Beginning Data Retrieval     \")\n",
    "print(\"-----------------------------\")\n",
    "\n",
    "# Create counters.\n",
    "record_count = 1\n",
    "set_count = 1\n"
   ]
  },
  {
   "cell_type": "code",
   "execution_count": null,
   "id": "23563088",
   "metadata": {},
   "outputs": [],
   "source": [
    "# Loop through all the cities in our list.\n",
    "for i in range(len(cities)):\n",
    "    \n",
    "    # Group cities in sets of 50 for our logging purposes.\n",
    "    if (i % 50 -- 0 and i >= 50):\n",
    "        set_count += 1\n",
    "        record_count = 1\n",
    "        time.sleep(60)\n",
    "        \n",
    "        \n",
    "    # Create endpoint URL with each city.\n",
    "    city_url = url + \"&q=\" + cities[i]\n",
    "\n",
    "# DO NOT RUN"
   ]
  },
  {
   "cell_type": "code",
   "execution_count": 16,
   "id": "03a97d3d",
   "metadata": {},
   "outputs": [
    {
     "name": "stdout",
     "output_type": "stream",
     "text": [
      "Processing Record 1 of Set 1 | east london\n",
      "City not found. Skipping...\n",
      "Processing Record 2 of Set 1 | qaanaaq\n",
      "City not found. Skipping...\n",
      "Processing Record 3 of Set 1 | shagonar\n",
      "City not found. Skipping...\n",
      "Processing Record 4 of Set 1 | chuy\n",
      "City not found. Skipping...\n",
      "Processing Record 5 of Set 1 | punta arenas\n",
      "City not found. Skipping...\n",
      "Processing Record 6 of Set 1 | mizdah\n",
      "City not found. Skipping...\n",
      "Processing Record 7 of Set 1 | venezuela\n",
      "City not found. Skipping...\n",
      "Processing Record 8 of Set 1 | faanui\n",
      "City not found. Skipping...\n",
      "Processing Record 9 of Set 1 | saryshagan\n",
      "City not found. Skipping...\n",
      "Processing Record 10 of Set 1 | mildura\n",
      "City not found. Skipping...\n",
      "Processing Record 11 of Set 1 | georgetown\n",
      "City not found. Skipping...\n",
      "Processing Record 12 of Set 1 | rikitea\n",
      "City not found. Skipping...\n",
      "Processing Record 13 of Set 1 | hobart\n",
      "City not found. Skipping...\n",
      "Processing Record 14 of Set 1 | port alfred\n",
      "City not found. Skipping...\n",
      "Processing Record 15 of Set 1 | bluff\n",
      "City not found. Skipping...\n",
      "Processing Record 16 of Set 1 | lavrentiya\n",
      "City not found. Skipping...\n",
      "Processing Record 17 of Set 1 | new norfolk\n",
      "City not found. Skipping...\n",
      "Processing Record 18 of Set 1 | lebu\n",
      "City not found. Skipping...\n",
      "Processing Record 19 of Set 1 | koungheul\n",
      "City not found. Skipping...\n",
      "Processing Record 20 of Set 1 | siavonga\n",
      "City not found. Skipping...\n",
      "Processing Record 21 of Set 1 | bahia blanca\n",
      "City not found. Skipping...\n",
      "Processing Record 22 of Set 1 | chokurdakh\n",
      "City not found. Skipping...\n",
      "Processing Record 23 of Set 1 | ribeira grande\n",
      "City not found. Skipping...\n",
      "Processing Record 24 of Set 1 | balancan\n",
      "City not found. Skipping...\n",
      "Processing Record 25 of Set 1 | illoqqortoormiut\n",
      "City not found. Skipping...\n",
      "Processing Record 26 of Set 1 | busselton\n",
      "City not found. Skipping...\n",
      "Processing Record 27 of Set 1 | yellowknife\n",
      "City not found. Skipping...\n",
      "Processing Record 28 of Set 1 | mbalmayo\n",
      "City not found. Skipping...\n",
      "Processing Record 29 of Set 1 | tuktoyaktuk\n",
      "City not found. Skipping...\n",
      "Processing Record 30 of Set 1 | tiksi\n",
      "City not found. Skipping...\n",
      "Processing Record 31 of Set 1 | tambilil\n",
      "City not found. Skipping...\n",
      "Processing Record 32 of Set 1 | saskylakh\n",
      "City not found. Skipping...\n",
      "Processing Record 33 of Set 1 | manoel urbano\n",
      "City not found. Skipping...\n",
      "Processing Record 34 of Set 1 | albany\n",
      "City not found. Skipping...\n",
      "Processing Record 35 of Set 1 | tumannyy\n",
      "City not found. Skipping...\n",
      "Processing Record 36 of Set 1 | makakilo city\n",
      "City not found. Skipping...\n",
      "Processing Record 37 of Set 1 | stromness\n",
      "City not found. Skipping...\n",
      "Processing Record 38 of Set 1 | mataura\n",
      "City not found. Skipping...\n",
      "Processing Record 39 of Set 1 | caravelas\n",
      "City not found. Skipping...\n",
      "Processing Record 40 of Set 1 | coulihaut\n",
      "City not found. Skipping...\n",
      "Processing Record 41 of Set 1 | kirkuk\n",
      "City not found. Skipping...\n",
      "Processing Record 42 of Set 1 | sept-iles\n",
      "City not found. Skipping...\n",
      "Processing Record 43 of Set 1 | yeppoon\n",
      "City not found. Skipping...\n",
      "Processing Record 44 of Set 1 | belushya guba\n",
      "City not found. Skipping...\n",
      "Processing Record 45 of Set 1 | atuona\n",
      "City not found. Skipping...\n",
      "Processing Record 46 of Set 1 | matay\n",
      "City not found. Skipping...\n",
      "Processing Record 47 of Set 1 | kruisfontein\n",
      "City not found. Skipping...\n",
      "Processing Record 48 of Set 1 | wellington\n",
      "City not found. Skipping...\n",
      "Processing Record 49 of Set 1 | karratha\n",
      "City not found. Skipping...\n",
      "Processing Record 50 of Set 1 | laguna\n",
      "City not found. Skipping...\n"
     ]
    },
    {
     "ename": "KeyboardInterrupt",
     "evalue": "",
     "output_type": "error",
     "traceback": [
      "\u001b[0;31m---------------------------------------------------------------------------\u001b[0m",
      "\u001b[0;31mKeyboardInterrupt\u001b[0m                         Traceback (most recent call last)",
      "Input \u001b[0;32mIn [16]\u001b[0m, in \u001b[0;36m<cell line: 2>\u001b[0;34m()\u001b[0m\n\u001b[1;32m      6\u001b[0m     set_count \u001b[38;5;241m+\u001b[39m\u001b[38;5;241m=\u001b[39m \u001b[38;5;241m1\u001b[39m\n\u001b[1;32m      7\u001b[0m     record_count \u001b[38;5;241m=\u001b[39m \u001b[38;5;241m1\u001b[39m\n\u001b[0;32m----> 8\u001b[0m     \u001b[43mtime\u001b[49m\u001b[38;5;241;43m.\u001b[39;49m\u001b[43msleep\u001b[49m\u001b[43m(\u001b[49m\u001b[38;5;241;43m60\u001b[39;49m\u001b[43m)\u001b[49m\n\u001b[1;32m     10\u001b[0m \u001b[38;5;66;03m# Create endpoint URL with each city.\u001b[39;00m\n\u001b[1;32m     11\u001b[0m city_url \u001b[38;5;241m=\u001b[39m url \u001b[38;5;241m+\u001b[39m \u001b[38;5;124m\"\u001b[39m\u001b[38;5;124m&q=\u001b[39m\u001b[38;5;124m\"\u001b[39m \u001b[38;5;241m+\u001b[39m city\u001b[38;5;241m.\u001b[39mreplace(\u001b[38;5;124m\"\u001b[39m\u001b[38;5;124m \u001b[39m\u001b[38;5;124m\"\u001b[39m,\u001b[38;5;124m\"\u001b[39m\u001b[38;5;124m+\u001b[39m\u001b[38;5;124m\"\u001b[39m)\n",
      "\u001b[0;31mKeyboardInterrupt\u001b[0m: "
     ]
    }
   ],
   "source": [
    "# Loop through all the cities in the list.\n",
    "for i, city in enumerate(cities):\n",
    "\n",
    "    # Group cities in sets of 50 for logging purposes.\n",
    "    if (i % 50 == 0 and i >= 50):\n",
    "        set_count += 1\n",
    "        record_count = 1\n",
    "        time.sleep(60)\n",
    "\n",
    "    # Create endpoint URL with each city.\n",
    "    city_url = url + \"&q=\" + city.replace(\" \",\"+\")\n",
    "\n",
    "    # Log the URL, record, and set numbers and the city.\n",
    "    print(f\"Processing Record {record_count} of Set {set_count} | {city}\")\n",
    "    # Add 1 to the record count.\n",
    "    record_count += 1\n",
    "    \n",
    "# Run an API request for each of the cities.\n",
    "    try:\n",
    "        # Parse the JSON and retrieve data.\n",
    "        city_weather = requests.get(city_url).json()\n",
    "        # Parse out the needed data.\n",
    "        city_lat = city_weather[\"coord\"][\"lat\"]\n",
    "        city_lng = city_weather[\"coord\"][\"lon\"]\n",
    "        city_max_temp = city_weather[\"main\"][\"temp_max\"]\n",
    "        city_humidity = city_weather[\"main\"][\"humidity\"]\n",
    "        city_clouds = city_weather[\"clouds\"][\"all\"]\n",
    "        city_wind = city_weather[\"wind\"][\"speed\"]\n",
    "        city_country = city_weather[\"sys\"][\"country\"]\n",
    "        # Convert the date to ISO standard.\n",
    "        city_date = datetime.utcfromtimestamp(city_weather[\"dt\"]).strftime('%Y-%m-%d %H:%M:%S')\n",
    "        # Append the city information into city_data list.\n",
    "        city_data.append({\"City\": city.title(),\n",
    "                          \"Lat\": city_lat,\n",
    "                          \"Lng\": city_lng,\n",
    "                          \"Max Temp\": city_max_temp,\n",
    "                          \"Humidity\": city_humidity,\n",
    "                          \"Cloudiness\": city_clouds,\n",
    "                          \"Wind Speed\": city_wind,\n",
    "                          \"Country\": city_country,\n",
    "                          \"Date\": city_date})\n",
    "\n",
    "# If an error is experienced, skip the city.\n",
    "    except:\n",
    "        print(\"City not found. Skipping...\")\n",
    "        pass\n",
    "\n",
    "# Indicate that Data Loading is complete.\n",
    "print(\"-----------------------------\")\n",
    "print(\"Data Retrieval Complete      \")\n",
    "print(\"-----------------------------\")\n"
   ]
  },
  {
   "cell_type": "code",
   "execution_count": null,
   "id": "247d2271",
   "metadata": {},
   "outputs": [],
   "source": [
    "print(city_url)"
   ]
  },
  {
   "cell_type": "code",
   "execution_count": null,
   "id": "c8d2b06f",
   "metadata": {},
   "outputs": [],
   "source": []
  }
 ],
 "metadata": {
  "kernelspec": {
   "display_name": "PythonData",
   "language": "python",
   "name": "pythondata"
  },
  "language_info": {
   "codemirror_mode": {
    "name": "ipython",
    "version": 3
   },
   "file_extension": ".py",
   "mimetype": "text/x-python",
   "name": "python",
   "nbconvert_exporter": "python",
   "pygments_lexer": "ipython3",
   "version": "3.9.7"
  }
 },
 "nbformat": 4,
 "nbformat_minor": 5
}
